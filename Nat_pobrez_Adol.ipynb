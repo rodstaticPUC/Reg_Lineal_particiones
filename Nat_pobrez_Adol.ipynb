{
 "cells": [
  {
   "cell_type": "markdown",
   "id": "0caf903e-f95e-4f1b-a9af-d0d9263a9c1c",
   "metadata": {
    "tags": []
   },
   "source": [
    "## Regresion lineal\n",
    "\n",
    "- **Tasa de natalidad (promedio) adolecente versus pobreza**\n",
    "\n",
    "A continuación se presenta un modelo de regresion lineal con la finalidad de demostrar la utilización de los distinas particiones que se realizan a la data. Además se utilizan métricas de calidad para la evaluación del modelo.\n",
    "\n",
    "**Indice**\n",
    "\n",
    "- Modelo con particion de la data (train y test)\n",
    "- Modelo sin particion y utilizando la forma de R\n",
    "\n",
    "\n",
    "**Info data**\n",
    "\n",
    "Conjunto de datos de tamaño n = 51; para los 50 estados y el distrito de Columbia de USA. \n",
    "\n",
    "Variables:\n",
    "\n",
    "- **y** : tasa de natalidad del año 2002 por cada 1000 mujeres de 15 a 17 años (**Brth15to17**) \n",
    "- **x** : tasa de pobreza (**PovPct**) (porcentaje de la población del estado que vive en hogares con ingresos por debajo del nivel de pobreza definido por el gobierno federal).\n",
    "\n",
    "Fuente: Mind On Statistics, 3.ª edición, Utts and Heckard"
   ]
  },
  {
   "cell_type": "code",
   "execution_count": 8,
   "id": "06c42fc6-6889-4535-816e-5be71daba912",
   "metadata": {},
   "outputs": [
    {
     "data": {
      "text/plain": [
       "WindowsPath('c:/Users/rodrigo/Documents/GitHub/Reg_Lineal_particiones')"
      ]
     },
     "execution_count": 8,
     "metadata": {},
     "output_type": "execute_result"
    }
   ],
   "source": [
    "import pandas as pd\n",
    "import numpy as np\n",
    "import matplotlib.pyplot as plt\n",
    "import seaborn as sns\n",
    "import statsmodels.formula.api as smf\n",
    "from sklearn.model_selection import train_test_split\n",
    "from sklearn.linear_model import LinearRegression\n",
    "from sklearn.metrics import mean_squared_error\n",
    "from sklearn.metrics import r2_score\n",
    "#\n",
    "import warnings\n",
    "warnings.filterwarnings(\"ignore\")\n",
    "\n",
    "from pathlib import Path\n",
    "import os\n",
    "Path.cwd()\n"
   ]
  },
  {
   "cell_type": "code",
   "execution_count": 9,
   "id": "fd0fd660-5699-4873-8bdc-cd88a3c76aa8",
   "metadata": {},
   "outputs": [
    {
     "name": "stdout",
     "output_type": "stream",
     "text": [
      "(51, 6)\n",
      "<class 'pandas.core.frame.DataFrame'>\n",
      "RangeIndex: 51 entries, 0 to 50\n",
      "Data columns (total 6 columns):\n",
      " #   Column      Non-Null Count  Dtype  \n",
      "---  ------      --------------  -----  \n",
      " 0   Location    51 non-null     object \n",
      " 1   PovPct      51 non-null     float64\n",
      " 2   Brth15to17  51 non-null     float64\n",
      " 3   Brth18to19  51 non-null     float64\n",
      " 4   ViolCrime   51 non-null     float64\n",
      " 5   TeenBrth    51 non-null     float64\n",
      "dtypes: float64(5), object(1)\n",
      "memory usage: 2.5+ KB\n",
      "None\n"
     ]
    },
    {
     "data": {
      "text/html": [
       "<div>\n",
       "<style scoped>\n",
       "    .dataframe tbody tr th:only-of-type {\n",
       "        vertical-align: middle;\n",
       "    }\n",
       "\n",
       "    .dataframe tbody tr th {\n",
       "        vertical-align: top;\n",
       "    }\n",
       "\n",
       "    .dataframe thead th {\n",
       "        text-align: right;\n",
       "    }\n",
       "</style>\n",
       "<table border=\"1\" class=\"dataframe\">\n",
       "  <thead>\n",
       "    <tr style=\"text-align: right;\">\n",
       "      <th></th>\n",
       "      <th>Location</th>\n",
       "      <th>PovPct</th>\n",
       "      <th>Brth15to17</th>\n",
       "      <th>Brth18to19</th>\n",
       "      <th>ViolCrime</th>\n",
       "      <th>TeenBrth</th>\n",
       "    </tr>\n",
       "  </thead>\n",
       "  <tbody>\n",
       "    <tr>\n",
       "      <th>0</th>\n",
       "      <td>Alabama</td>\n",
       "      <td>20.1</td>\n",
       "      <td>31.5</td>\n",
       "      <td>88.7</td>\n",
       "      <td>11.2</td>\n",
       "      <td>54.5</td>\n",
       "    </tr>\n",
       "    <tr>\n",
       "      <th>1</th>\n",
       "      <td>Alaska</td>\n",
       "      <td>7.1</td>\n",
       "      <td>18.9</td>\n",
       "      <td>73.7</td>\n",
       "      <td>9.1</td>\n",
       "      <td>39.5</td>\n",
       "    </tr>\n",
       "    <tr>\n",
       "      <th>2</th>\n",
       "      <td>Arizona</td>\n",
       "      <td>16.1</td>\n",
       "      <td>35.0</td>\n",
       "      <td>102.5</td>\n",
       "      <td>10.4</td>\n",
       "      <td>61.2</td>\n",
       "    </tr>\n",
       "    <tr>\n",
       "      <th>3</th>\n",
       "      <td>Arkansas</td>\n",
       "      <td>14.9</td>\n",
       "      <td>31.6</td>\n",
       "      <td>101.7</td>\n",
       "      <td>10.4</td>\n",
       "      <td>59.9</td>\n",
       "    </tr>\n",
       "    <tr>\n",
       "      <th>4</th>\n",
       "      <td>California</td>\n",
       "      <td>16.7</td>\n",
       "      <td>22.6</td>\n",
       "      <td>69.1</td>\n",
       "      <td>11.2</td>\n",
       "      <td>41.1</td>\n",
       "    </tr>\n",
       "  </tbody>\n",
       "</table>\n",
       "</div>"
      ],
      "text/plain": [
       "     Location  PovPct  Brth15to17  Brth18to19  ViolCrime  TeenBrth\n",
       "0     Alabama    20.1        31.5        88.7       11.2      54.5\n",
       "1      Alaska     7.1        18.9        73.7        9.1      39.5\n",
       "2     Arizona    16.1        35.0       102.5       10.4      61.2\n",
       "3    Arkansas    14.9        31.6       101.7       10.4      59.9\n",
       "4  California    16.7        22.6        69.1       11.2      41.1"
      ]
     },
     "execution_count": 9,
     "metadata": {},
     "output_type": "execute_result"
    }
   ],
   "source": [
    "df = pd.read_csv(\"df_linear.csv\",sep=\";\")\n",
    "print(df.shape)\n",
    "print(df.info())\n",
    "(df.head())"
   ]
  },
  {
   "cell_type": "code",
   "execution_count": 10,
   "id": "210db706-c1db-4308-9b6e-160e3fd0e9fa",
   "metadata": {},
   "outputs": [
    {
     "data": {
      "image/png": "[encoded data removed]",
      "text/plain": [
       "<Figure size 432x288 with 1 Axes>"
      ]
     },
     "metadata": {
      "needs_background": "light"
     },
     "output_type": "display_data"
    }
   ],
   "source": [
    "plt.scatter(df.PovPct, df.Brth15to17, c =\"r\")\n",
    "plt.title('Relación entre Tasa de Natalidad adolecente y pobreza');"
   ]
  },
  {
   "cell_type": "markdown",
   "id": "1551b2d5-b3ec-4094-a40e-1a0632fbfdb5",
   "metadata": {},
   "source": [
    "Existe una relacion lineal entre ambas variables."
   ]
  },
  {
   "cell_type": "markdown",
   "id": "026977fe-2f46-4bb5-b308-d48c526ac720",
   "metadata": {},
   "source": [
    "**1.- Preparación del Modelo con particion de la data**"
   ]
  },
  {
   "cell_type": "code",
   "execution_count": 11,
   "id": "c578e719-5119-4639-8f74-e9c84e74f4ee",
   "metadata": {},
   "outputs": [
    {
     "data": {
      "text/plain": [
       "LinearRegression()"
      ]
     },
     "execution_count": 11,
     "metadata": {},
     "output_type": "execute_result"
    }
   ],
   "source": [
    "# Preparacion para modelo\n",
    "\n",
    "X = df[['PovPct']]\n",
    "y = df['Brth15to17']\n",
    "\n",
    "# Separamos el 20% para el test\n",
    "X_train, X_test, y_train, y_test = train_test_split(X,y,test_size = 0.20, shuffle=False)\n",
    "\n",
    "# Obtencion de las intancias de Regresion\n",
    "regresion_lineal = LinearRegression()\n",
    "regresion_lineal.fit(X_train, y_train)"
   ]
  },
  {
   "cell_type": "markdown",
   "id": "1b92627c-12e2-423c-a0f6-95b1559aa5a5",
   "metadata": {},
   "source": [
    "**Parametros del modelo**"
   ]
  },
  {
   "cell_type": "code",
   "execution_count": 12,
   "id": "0984be06-37bf-4363-be00-0d2bb68c7d39",
   "metadata": {},
   "outputs": [
    {
     "name": "stdout",
     "output_type": "stream",
     "text": [
      "Intercepto: 4.989041843074087\n",
      "Coeficiente: [1.34794096]\n"
     ]
    }
   ],
   "source": [
    "print('Intercepto:' ,regresion_lineal.intercept_)   \n",
    "print('Coeficiente:',regresion_lineal.coef_)"
   ]
  },
  {
   "cell_type": "markdown",
   "id": "3142dedd-dfd8-40d1-911d-9ee71514dd6f",
   "metadata": {},
   "source": [
    "**Modelo**\n",
    "\n",
    "$$ Tasa Natalidad Adolecente = 4.98 + 1.34 (pobreza)$$\n",
    "\n",
    "\n",
    "\n",
    "\n",
    "\n",
    "**Predicciones**"
   ]
  },
  {
   "cell_type": "code",
   "execution_count": 13,
   "id": "3882f619-f0da-4f2f-99bc-bf25ee47ac62",
   "metadata": {},
   "outputs": [],
   "source": [
    "# en data train\n",
    "y_train_predic = regresion_lineal.predict(X_train)\n",
    "\n",
    "# en data test\n",
    "y_test_predic = regresion_lineal.predict(X_test)"
   ]
  },
  {
   "cell_type": "markdown",
   "id": "595829be-a31b-44d5-af8b-56a2bad73a95",
   "metadata": {},
   "source": [
    "**Prediccion en Train data**"
   ]
  },
  {
   "cell_type": "code",
   "execution_count": 14,
   "id": "7ce3250e-61a6-4017-bf78-b1bf6e5f0929",
   "metadata": {},
   "outputs": [
    {
     "data": {
      "text/html": [
       "<div>\n",
       "<style scoped>\n",
       "    .dataframe tbody tr th:only-of-type {\n",
       "        vertical-align: middle;\n",
       "    }\n",
       "\n",
       "    .dataframe tbody tr th {\n",
       "        vertical-align: top;\n",
       "    }\n",
       "\n",
       "    .dataframe thead th {\n",
       "        text-align: right;\n",
       "    }\n",
       "</style>\n",
       "<table border=\"1\" class=\"dataframe\">\n",
       "  <thead>\n",
       "    <tr style=\"text-align: right;\">\n",
       "      <th></th>\n",
       "      <th>Predicted</th>\n",
       "    </tr>\n",
       "    <tr>\n",
       "      <th>Actual</th>\n",
       "      <th></th>\n",
       "    </tr>\n",
       "  </thead>\n",
       "  <tbody>\n",
       "    <tr>\n",
       "      <th>31.5</th>\n",
       "      <td>32.082655</td>\n",
       "    </tr>\n",
       "    <tr>\n",
       "      <th>18.9</th>\n",
       "      <td>14.559423</td>\n",
       "    </tr>\n",
       "    <tr>\n",
       "      <th>35.0</th>\n",
       "      <td>26.690891</td>\n",
       "    </tr>\n",
       "    <tr>\n",
       "      <th>31.6</th>\n",
       "      <td>25.073362</td>\n",
       "    </tr>\n",
       "    <tr>\n",
       "      <th>22.6</th>\n",
       "      <td>27.499656</td>\n",
       "    </tr>\n",
       "  </tbody>\n",
       "</table>\n",
       "</div>"
      ],
      "text/plain": [
       "        Predicted\n",
       "Actual           \n",
       "31.5    32.082655\n",
       "18.9    14.559423\n",
       "35.0    26.690891\n",
       "31.6    25.073362\n",
       "22.6    27.499656"
      ]
     },
     "execution_count": 14,
     "metadata": {},
     "output_type": "execute_result"
    }
   ],
   "source": [
    "actual_predicted_traindata=pd.DataFrame({'Actual':y_train,'Predicted':y_train_predic}).set_index('Actual')\n",
    "actual_predicted_traindata.head()"
   ]
  },
  {
   "cell_type": "markdown",
   "id": "c1ced21f-f2cc-42c4-8d3b-ba5a6dd19e10",
   "metadata": {},
   "source": [
    "**Prediccion en Test data**"
   ]
  },
  {
   "cell_type": "code",
   "execution_count": 15,
   "id": "ad5a6293-df60-4002-b148-41f496707f8c",
   "metadata": {},
   "outputs": [
    {
     "data": {
      "text/html": [
       "<div>\n",
       "<style scoped>\n",
       "    .dataframe tbody tr th:only-of-type {\n",
       "        vertical-align: middle;\n",
       "    }\n",
       "\n",
       "    .dataframe tbody tr th {\n",
       "        vertical-align: top;\n",
       "    }\n",
       "\n",
       "    .dataframe thead th {\n",
       "        text-align: right;\n",
       "    }\n",
       "</style>\n",
       "<table border=\"1\" class=\"dataframe\">\n",
       "  <thead>\n",
       "    <tr style=\"text-align: right;\">\n",
       "      <th></th>\n",
       "      <th>Predicted</th>\n",
       "    </tr>\n",
       "    <tr>\n",
       "      <th>Actual</th>\n",
       "      <th></th>\n",
       "    </tr>\n",
       "  </thead>\n",
       "  <tbody>\n",
       "    <tr>\n",
       "      <th>29.2</th>\n",
       "      <td>31.813067</td>\n",
       "    </tr>\n",
       "    <tr>\n",
       "      <th>17.3</th>\n",
       "      <td>24.534186</td>\n",
       "    </tr>\n",
       "    <tr>\n",
       "      <th>28.2</th>\n",
       "      <td>25.882127</td>\n",
       "    </tr>\n",
       "    <tr>\n",
       "      <th>38.2</th>\n",
       "      <td>28.443214</td>\n",
       "    </tr>\n",
       "    <tr>\n",
       "      <th>17.8</th>\n",
       "      <td>16.311746</td>\n",
       "    </tr>\n",
       "  </tbody>\n",
       "</table>\n",
       "</div>"
      ],
      "text/plain": [
       "        Predicted\n",
       "Actual           \n",
       "29.2    31.813067\n",
       "17.3    24.534186\n",
       "28.2    25.882127\n",
       "38.2    28.443214\n",
       "17.8    16.311746"
      ]
     },
     "execution_count": 15,
     "metadata": {},
     "output_type": "execute_result"
    }
   ],
   "source": [
    "actual_predicted_testdata=pd.DataFrame({'Actual':y_test,'Predicted':y_test_predic}).set_index('Actual')\n",
    "actual_predicted_testdata.head()"
   ]
  },
  {
   "cell_type": "markdown",
   "id": "9b8f81af-1568-420b-a547-75b2dbbcf05e",
   "metadata": {},
   "source": [
    "**Grafico de Modelo**"
   ]
  },
  {
   "cell_type": "code",
   "execution_count": 16,
   "id": "0e3c446a-aaa4-4736-9ba4-a8d3d188eee2",
   "metadata": {},
   "outputs": [
    {
     "data": {
      "image/png": "[encoded data removed]",
      "text/plain": [
       "<Figure size 432x288 with 1 Axes>"
      ]
     },
     "metadata": {
      "needs_background": "light"
     },
     "output_type": "display_data"
    }
   ],
   "source": [
    "plt.scatter(X,y,color='r') \n",
    "reg_line = regresion_lineal.coef_*X + regresion_lineal.intercept_ \n",
    "plt.plot(X,reg_line,'b')   # mejor curva\n",
    "plt.title('Relacion entre tasa de natalidad adolecente y pobreza')\n",
    "plt.xlabel('Pobreza')\n",
    "plt.ylabel('Tasa')\n",
    "plt.show()"
   ]
  },
  {
   "cell_type": "markdown",
   "id": "b1c75e4c-b096-4b6c-a3e0-caee2debfabf",
   "metadata": {},
   "source": [
    "\n",
    "\n",
    "\n",
    "**Métricas**\n",
    "\n",
    "- **MSE**: básicamente mide el error cuadrado promedio de nuestras predicciones. Calcula la diferencia cuadrada entre las predicciones y el objetivo y luego promedia esos valores. Cuanto mayor sea el valor, peor será el modelo.\n",
    "\n",
    "$MSE = \\frac{1}{N} \\sum_{i=1}^{N}(y_{i} - \\hat y_{i})^2$\n",
    "\n",
    "- **RMSE**: es solo la raíz cuadrada de MSE. La raíz cuadrada se introduce para hacer que la escala de los errores sea igual a la escala de los objetivos.\n",
    "\n",
    "$RMSE =  \\sqrt{MSE} $"
   ]
  },
  {
   "cell_type": "code",
   "execution_count": 17,
   "id": "e7c851d9-5633-41ea-9dda-8f08b9b0fa89",
   "metadata": {},
   "outputs": [],
   "source": [
    "# Diferencia cuadratica media en data train\n",
    "train_MSD = mean_squared_error(y_train, y_train_predic)\n",
    "\n",
    "RMSD_train = ('RMSD train data:',np.sqrt(mean_squared_error(y_train,y_train_predic)))\n",
    "\n",
    "# Diferencia cuadratica media en data test\n",
    "test_MSD = mean_squared_error(y_test, y_test_predic)\n",
    "RMSD_test = ('RMSD test data:',np.sqrt(mean_squared_error(y_test,y_test_predic)))\n"
   ]
  },
  {
   "cell_type": "markdown",
   "id": "d7dc05ac-2877-47d2-9b48-d200768d9b55",
   "metadata": {},
   "source": [
    "**Graficos para los distintos conjunto de datos**"
   ]
  },
  {
   "cell_type": "code",
   "execution_count": 18,
   "id": "53d3d83d-fc49-4e49-90d7-2de0c8559eba",
   "metadata": {},
   "outputs": [
    {
     "data": {
      "image/png": "[encoded data removed]",
      "text/plain": [
       "<Figure size 1080x288 with 2 Axes>"
      ]
     },
     "metadata": {
      "needs_background": "light"
     },
     "output_type": "display_data"
    }
   ],
   "source": [
    "fig, axs = plt.subplots(1,2,figsize=(15,4))\n",
    "\n",
    "# Primer grafico de entrenamiento\n",
    "axs[0].scatter(X_train,y_train, color='orange')\n",
    "axs[0].plot(X_train,y_train_predic, color='black')\n",
    "axs[0].set_title('Conjunto de entrenamiento, MSD:{:0f}'.format(train_MSD))\n",
    "\n",
    "# Segundo grafico de testeo\n",
    "axs[1].scatter(X_test,y_test, color='blue')\n",
    "axs[1].plot(X_test,y_test_predic, color='black')\n",
    "axs[1].set_title('Conjunto de testeo, MSD:{:0f}'.format(test_MSD));\n"
   ]
  },
  {
   "cell_type": "markdown",
   "id": "dadd2951-7225-4753-9bdf-137ea6cb66a2",
   "metadata": {},
   "source": [
    "**MSE y RMSE para train data**"
   ]
  },
  {
   "cell_type": "code",
   "execution_count": 19,
   "id": "6663e507-dc85-4291-a0a9-ec52ecfe99f9",
   "metadata": {},
   "outputs": [
    {
     "name": "stdout",
     "output_type": "stream",
     "text": [
      "MSE: 30.212499640110984\n",
      "RMSE: 5.496589819161603\n"
     ]
    }
   ],
   "source": [
    "print('MSE:',mean_squared_error(y_train,y_train_predic))\n",
    "print('RMSE:',np.sqrt(mean_squared_error(y_train,y_train_predic)))"
   ]
  },
  {
   "cell_type": "markdown",
   "id": "626f914a-d72e-42fd-b8c4-0113d36c3679",
   "metadata": {},
   "source": [
    "**MSE y RMSE para test data**"
   ]
  },
  {
   "cell_type": "code",
   "execution_count": 20,
   "id": "d454be8f-b5f1-40f6-9891-5c4c2f3fda8f",
   "metadata": {},
   "outputs": [
    {
     "name": "stdout",
     "output_type": "stream",
     "text": [
      "MSE: 28.129331562079372\n",
      "RMSE: 5.303709226765677\n"
     ]
    }
   ],
   "source": [
    "print('MSE:',mean_squared_error(y_test,y_test_predic))\n",
    "print('RMSE:',np.sqrt(mean_squared_error(y_test,y_test_predic)))"
   ]
  },
  {
   "cell_type": "markdown",
   "id": "0c2e18a0-d71d-4613-b955-667ac1dd7dea",
   "metadata": {},
   "source": [
    "**R2-Score del modelo**"
   ]
  },
  {
   "cell_type": "code",
   "execution_count": 21,
   "id": "101e39dd-c44c-4744-8b35-0c5ad1e59e2f",
   "metadata": {},
   "outputs": [
    {
     "name": "stdout",
     "output_type": "stream",
     "text": [
      "r2_score para train data: 0.5360979926864171\n",
      "r2_score para test data: 0.4926741512875834\n"
     ]
    }
   ],
   "source": [
    "print('r2_score para train data:',r2_score(y_train,y_train_predic))\n",
    "print('r2_score para test data:',r2_score(y_test,y_test_predic))"
   ]
  },
  {
   "cell_type": "code",
   "execution_count": 22,
   "id": "7b35baf5-d843-4b79-88f4-171df98d0208",
   "metadata": {},
   "outputs": [],
   "source": [
    "# df\n",
    "s1 = pd.DataFrame(['Train data','Test data']) \n",
    "s1.rename(columns={0:'Data'},inplace=True)\n",
    "s2 = pd.DataFrame({'MSE':(mean_squared_error(y_train,y_train_predic),mean_squared_error(y_test,y_test_predic))})  \n",
    "s3 = pd.DataFrame({'RMSE':(np.sqrt(mean_squared_error(y_train,y_train_predic)),np.sqrt(mean_squared_error(y_test,y_test_predic)))})\n",
    "s4 = pd.DataFrame({'r2-score':(r2_score(y_train,y_train_predic),r2_score(y_test,y_test_predic))})"
   ]
  },
  {
   "cell_type": "code",
   "execution_count": 23,
   "id": "910b39ec-54e1-4540-8304-7835bf7beee2",
   "metadata": {},
   "outputs": [
    {
     "data": {
      "text/html": [
       "<div>\n",
       "<style scoped>\n",
       "    .dataframe tbody tr th:only-of-type {\n",
       "        vertical-align: middle;\n",
       "    }\n",
       "\n",
       "    .dataframe tbody tr th {\n",
       "        vertical-align: top;\n",
       "    }\n",
       "\n",
       "    .dataframe thead th {\n",
       "        text-align: right;\n",
       "    }\n",
       "</style>\n",
       "<table border=\"1\" class=\"dataframe\">\n",
       "  <thead>\n",
       "    <tr style=\"text-align: right;\">\n",
       "      <th></th>\n",
       "      <th>MSE</th>\n",
       "      <th>RMSE</th>\n",
       "      <th>r2-score</th>\n",
       "    </tr>\n",
       "    <tr>\n",
       "      <th>Data</th>\n",
       "      <th></th>\n",
       "      <th></th>\n",
       "      <th></th>\n",
       "    </tr>\n",
       "  </thead>\n",
       "  <tbody>\n",
       "    <tr>\n",
       "      <th>Train data</th>\n",
       "      <td>30.212500</td>\n",
       "      <td>5.496590</td>\n",
       "      <td>0.536098</td>\n",
       "    </tr>\n",
       "    <tr>\n",
       "      <th>Test data</th>\n",
       "      <td>28.129332</td>\n",
       "      <td>5.303709</td>\n",
       "      <td>0.492674</td>\n",
       "    </tr>\n",
       "  </tbody>\n",
       "</table>\n",
       "</div>"
      ],
      "text/plain": [
       "                  MSE      RMSE  r2-score\n",
       "Data                                     \n",
       "Train data  30.212500  5.496590  0.536098\n",
       "Test data   28.129332  5.303709  0.492674"
      ]
     },
     "execution_count": 23,
     "metadata": {},
     "output_type": "execute_result"
    }
   ],
   "source": [
    "pd.concat([s1,s2,s3,s4],axis=1).set_index('Data')"
   ]
  },
  {
   "cell_type": "markdown",
   "id": "d5c8cc75-558c-44de-9e5f-8721b7f66bec",
   "metadata": {
    "tags": []
   },
   "source": [
    "## Conclusiones Parte 1\n",
    "\n",
    "**Modelo**\n",
    "\n",
    "- La tasa de natalidad de 15 a 17 años aumenta 1.34 unidades, en promedio, por cada unidad (uno por ciento) de aumento en la tasa de pobreza.\n",
    "- La interpretación del intercepto (valor=4.267) es que si hubiera estados con índice de pobreza = 0, el promedio previsto para la tasa de natalidad de 15 a 17 años sería 4.98 para esos estados. Dado que no hay estados con índice de pobreza = 0, esta interpretación del intercepto no es significativa en la práctica para este ejemplo.\n",
    "\n",
    "\n",
    "\n",
    "**Metricas**\n",
    "\n",
    "- El **MSE** y **RMSE** para el modelo son bastante similares, lo que muestra un \"buen rendimiento\" y estabilidad.\n",
    "- El **R2 score** (train data) tiene mediocres resultados, ya que solo puede explicar el 53.60% de la variación. En el caso **R2 score** (test data), es aun peor."
   ]
  },
  {
   "cell_type": "markdown",
   "id": "0cb2d369-5986-4a3f-8e06-8f7deec366c3",
   "metadata": {},
   "source": [
    "**2.- Preparación del Modelo sin particion de la data**"
   ]
  },
  {
   "cell_type": "code",
   "execution_count": 24,
   "id": "44587772-ad84-423b-ab90-d6b5c560ca04",
   "metadata": {},
   "outputs": [],
   "source": [
    "# Modelo\n",
    "modelo = smf.ols(formula = 'Brth15to17 ~ PovPct', data=df).fit()"
   ]
  },
  {
   "cell_type": "markdown",
   "id": "aa4b8b7b-8980-40b8-aa53-ffd4beda95d9",
   "metadata": {},
   "source": [
    "**Parametros del modelo**"
   ]
  },
  {
   "cell_type": "code",
   "execution_count": 25,
   "id": "c259bb2e-80a0-4051-a554-fb9aabadaf38",
   "metadata": {},
   "outputs": [
    {
     "data": {
      "text/plain": [
       "Intercept    4.267293\n",
       "PovPct       1.373345\n",
       "dtype: float64"
      ]
     },
     "execution_count": 25,
     "metadata": {},
     "output_type": "execute_result"
    }
   ],
   "source": [
    "modelo.params"
   ]
  },
  {
   "cell_type": "markdown",
   "id": "aebf3be2-f602-4f72-8820-55eb00df5f9a",
   "metadata": {},
   "source": [
    "**Modelo**\n",
    "\n",
    "$$ Tasa Natalidad Adolecente = 4.26 + 1.37 (pobreza)$$\n",
    "\n",
    "El Modelo obtenido no es muy diferente al anterior.\n",
    "\n",
    "\n",
    "**Intervalo de confianza para los coeficientes**"
   ]
  },
  {
   "cell_type": "code",
   "execution_count": 26,
   "id": "68f7e99c-a900-4af6-84cb-1e3a9494b48d",
   "metadata": {},
   "outputs": [
    {
     "data": {
      "text/html": [
       "<div>\n",
       "<style scoped>\n",
       "    .dataframe tbody tr th:only-of-type {\n",
       "        vertical-align: middle;\n",
       "    }\n",
       "\n",
       "    .dataframe tbody tr th {\n",
       "        vertical-align: top;\n",
       "    }\n",
       "\n",
       "    .dataframe thead th {\n",
       "        text-align: right;\n",
       "    }\n",
       "</style>\n",
       "<table border=\"1\" class=\"dataframe\">\n",
       "  <thead>\n",
       "    <tr style=\"text-align: right;\">\n",
       "      <th></th>\n",
       "      <th>0</th>\n",
       "      <th>1</th>\n",
       "    </tr>\n",
       "  </thead>\n",
       "  <tbody>\n",
       "    <tr>\n",
       "      <th>Intercept</th>\n",
       "      <td>-0.816424</td>\n",
       "      <td>9.351010</td>\n",
       "    </tr>\n",
       "    <tr>\n",
       "      <th>PovPct</th>\n",
       "      <td>1.004542</td>\n",
       "      <td>1.742149</td>\n",
       "    </tr>\n",
       "  </tbody>\n",
       "</table>\n",
       "</div>"
      ],
      "text/plain": [
       "                  0         1\n",
       "Intercept -0.816424  9.351010\n",
       "PovPct     1.004542  1.742149"
      ]
     },
     "execution_count": 26,
     "metadata": {},
     "output_type": "execute_result"
    }
   ],
   "source": [
    "modelo.conf_int(alpha=0.05)"
   ]
  },
  {
   "cell_type": "markdown",
   "id": "3e0dda26-9335-492f-904d-06b7614e2a4e",
   "metadata": {},
   "source": [
    "**Predicciones con intervalo de confianza del 95%**"
   ]
  },
  {
   "cell_type": "code",
   "execution_count": 27,
   "id": "85dc72b4-6820-478d-8970-2d554ad870e2",
   "metadata": {},
   "outputs": [
    {
     "data": {
      "text/html": [
       "<div>\n",
       "<style scoped>\n",
       "    .dataframe tbody tr th:only-of-type {\n",
       "        vertical-align: middle;\n",
       "    }\n",
       "\n",
       "    .dataframe tbody tr th {\n",
       "        vertical-align: top;\n",
       "    }\n",
       "\n",
       "    .dataframe thead th {\n",
       "        text-align: right;\n",
       "    }\n",
       "</style>\n",
       "<table border=\"1\" class=\"dataframe\">\n",
       "  <thead>\n",
       "    <tr style=\"text-align: right;\">\n",
       "      <th></th>\n",
       "      <th>mean</th>\n",
       "      <th>mean_se</th>\n",
       "      <th>mean_ci_lower</th>\n",
       "      <th>mean_ci_upper</th>\n",
       "      <th>obs_ci_lower</th>\n",
       "      <th>obs_ci_upper</th>\n",
       "    </tr>\n",
       "  </thead>\n",
       "  <tbody>\n",
       "    <tr>\n",
       "      <th>0</th>\n",
       "      <td>31.871535</td>\n",
       "      <td>1.498712</td>\n",
       "      <td>28.859760</td>\n",
       "      <td>34.883310</td>\n",
       "      <td>20.317787</td>\n",
       "      <td>43.425284</td>\n",
       "    </tr>\n",
       "    <tr>\n",
       "      <th>1</th>\n",
       "      <td>14.018045</td>\n",
       "      <td>1.350460</td>\n",
       "      <td>11.304194</td>\n",
       "      <td>16.731897</td>\n",
       "      <td>2.538354</td>\n",
       "      <td>25.497736</td>\n",
       "    </tr>\n",
       "    <tr>\n",
       "      <th>2</th>\n",
       "      <td>26.378154</td>\n",
       "      <td>0.950613</td>\n",
       "      <td>24.467824</td>\n",
       "      <td>28.288483</td>\n",
       "      <td>15.061455</td>\n",
       "      <td>37.694852</td>\n",
       "    </tr>\n",
       "    <tr>\n",
       "      <th>3</th>\n",
       "      <td>24.730139</td>\n",
       "      <td>0.843263</td>\n",
       "      <td>23.035540</td>\n",
       "      <td>26.424739</td>\n",
       "      <td>13.447853</td>\n",
       "      <td>36.012425</td>\n",
       "    </tr>\n",
       "  </tbody>\n",
       "</table>\n",
       "</div>"
      ],
      "text/plain": [
       "        mean   mean_se  mean_ci_lower  mean_ci_upper  obs_ci_lower  \\\n",
       "0  31.871535  1.498712      28.859760      34.883310     20.317787   \n",
       "1  14.018045  1.350460      11.304194      16.731897      2.538354   \n",
       "2  26.378154  0.950613      24.467824      28.288483     15.061455   \n",
       "3  24.730139  0.843263      23.035540      26.424739     13.447853   \n",
       "\n",
       "   obs_ci_upper  \n",
       "0     43.425284  \n",
       "1     25.497736  \n",
       "2     37.694852  \n",
       "3     36.012425  "
      ]
     },
     "execution_count": 27,
     "metadata": {},
     "output_type": "execute_result"
    }
   ],
   "source": [
    "predicciones = modelo.get_prediction(exog = X_train).summary_frame(alpha=0.05)\n",
    "predicciones.head(4)"
   ]
  },
  {
   "cell_type": "markdown",
   "id": "2bfd69b9-f50f-4df1-b131-be31df698cd6",
   "metadata": {},
   "source": [
    "**Grafico del Modelo**"
   ]
  },
  {
   "cell_type": "code",
   "execution_count": 28,
   "id": "c74a3933-e613-4da4-87a3-b1a7668e4a1d",
   "metadata": {},
   "outputs": [
    {
     "data": {
      "image/png": "[encoded data removed]",
      "text/plain": [
       "<Figure size 864x288 with 1 Axes>"
      ]
     },
     "metadata": {
      "needs_background": "light"
     },
     "output_type": "display_data"
    }
   ],
   "source": [
    "# Predicciones con intervalo de confianza al 95%\n",
    "predicciones = modelo.get_prediction(exog = X_train).summary_frame(alpha=0.05)\n",
    "predicciones['x'] = X_train\n",
    "predicciones['y'] = y_train\n",
    "predicciones = predicciones.sort_values('x')\n",
    "\n",
    "# Grfico del modelo\n",
    "fig, ax = plt.subplots(figsize=(12, 4))\n",
    "\n",
    "ax.scatter(predicciones['x'], predicciones['y'], marker='o', color = \"gray\")\n",
    "ax.plot(predicciones['x'], predicciones[\"mean\"], linestyle='-', label=\"OLS\")\n",
    "ax.plot(predicciones['x'], predicciones[\"mean_ci_lower\"], linestyle='--', color='red', label=\"95% CI\")\n",
    "ax.plot(predicciones['x'], predicciones[\"mean_ci_upper\"], linestyle='--', color='red')\n",
    "ax.fill_between(predicciones['x'], predicciones[\"mean_ci_lower\"], predicciones[\"mean_ci_upper\"], alpha=0.1)\n",
    "ax.legend();"
   ]
  },
  {
   "cell_type": "markdown",
   "id": "c90c20e5-02ea-4a22-9038-35cb74182cf8",
   "metadata": {},
   "source": [
    "\n",
    "**Supuestos del Modelo Lineal**\n",
    "\n",
    "- **Diagnóstico de los Residuales**\n",
    "\n",
    "Esperamos observar una nube de puntos que no evidencian relación."
   ]
  },
  {
   "cell_type": "code",
   "execution_count": 29,
   "id": "b47eebbd",
   "metadata": {},
   "outputs": [
    {
     "data": {
      "image/png": "[encoded data removed]",
      "text/plain": [
       "<Figure size 432x288 with 1 Axes>"
      ]
     },
     "metadata": {
      "needs_background": "light"
     },
     "output_type": "display_data"
    }
   ],
   "source": [
    "plt.scatter(modelo.predict(), modelo.resid)\n",
    "plt.axhline(0,color=\"r\")\n",
    "plt.xlabel(\"Valores Predictivos\")\n",
    "plt.ylabel(\"Valores Residuales\");\n"
   ]
  },
  {
   "cell_type": "markdown",
   "id": "3a4e1663",
   "metadata": {},
   "source": [
    "Se observa una distribución aleatoria de los residuales, por tanto, indica que el modelo posee un buen ajuste.\n",
    "\n",
    "- **Heteroscedasticidad**\n",
    "\n",
    "Uno de los supuestos del modelo lineal, es que su varianza sea constante."
   ]
  },
  {
   "cell_type": "code",
   "execution_count": 30,
   "id": "0e7745ac",
   "metadata": {},
   "outputs": [
    {
     "data": {
      "image/png": "[encoded data removed]",
      "text/plain": [
       "<Figure size 432x288 with 1 Axes>"
      ]
     },
     "metadata": {
      "needs_background": "light"
     },
     "output_type": "display_data"
    }
   ],
   "source": [
    "plt.scatter(modelo.predict(), modelo.resid)\n",
    "plt.axhline(0,color=\"r\")\n",
    "plt.ylabel(\"Valores Residuales\")\n",
    "plt.xlabel(\"Valores Predictivos\");"
   ]
  },
  {
   "cell_type": "markdown",
   "id": "fb981ec8",
   "metadata": {},
   "source": [
    "Se observa que la varianza es constante.\n",
    "\n",
    "\n",
    "**Metricas del Modelo**"
   ]
  },
  {
   "cell_type": "code",
   "execution_count": null,
   "id": "88251771-a071-4566-aca2-e56940febc2d",
   "metadata": {},
   "outputs": [
    {
     "data": {
      "text/html": [
       "<table class=\"simpletable\">\n",
       "<caption>OLS Regression Results</caption>\n",
       "<tr>\n",
       "  <th>Dep. Variable:</th>       <td>Brth15to17</td>    <th>  R-squared:         </th> <td>   0.533</td>\n",
       "</tr>\n",
       "<tr>\n",
       "  <th>Model:</th>                   <td>OLS</td>       <th>  Adj. R-squared:    </th> <td>   0.524</td>\n",
       "</tr>\n",
       "<tr>\n",
       "  <th>Method:</th>             <td>Least Squares</td>  <th>  F-statistic:       </th> <td>   56.00</td>\n",
       "</tr>\n",
       "<tr>\n",
       "  <th>Date:</th>             <td>Mon, 25 Jul 2022</td> <th>  Prob (F-statistic):</th> <td>1.19e-09</td>\n",
       "</tr>\n",
       "<tr>\n",
       "  <th>Time:</th>                 <td>17:31:15</td>     <th>  Log-Likelihood:    </th> <td> -158.75</td>\n",
       "</tr>\n",
       "<tr>\n",
       "  <th>No. Observations:</th>      <td>    51</td>      <th>  AIC:               </th> <td>   321.5</td>\n",
       "</tr>\n",
       "<tr>\n",
       "  <th>Df Residuals:</th>          <td>    49</td>      <th>  BIC:               </th> <td>   325.4</td>\n",
       "</tr>\n",
       "<tr>\n",
       "  <th>Df Model:</th>              <td>     1</td>      <th>                     </th>     <td> </td>   \n",
       "</tr>\n",
       "<tr>\n",
       "  <th>Covariance Type:</th>      <td>nonrobust</td>    <th>                     </th>     <td> </td>   \n",
       "</tr>\n",
       "</table>\n",
       "<table class=\"simpletable\">\n",
       "<tr>\n",
       "      <td></td>         <th>coef</th>     <th>std err</th>      <th>t</th>      <th>P>|t|</th>  <th>[0.025</th>    <th>0.975]</th>  \n",
       "</tr>\n",
       "<tr>\n",
       "  <th>Intercept</th> <td>    4.2673</td> <td>    2.530</td> <td>    1.687</td> <td> 0.098</td> <td>   -0.816</td> <td>    9.351</td>\n",
       "</tr>\n",
       "<tr>\n",
       "  <th>PovPct</th>    <td>    1.3733</td> <td>    0.184</td> <td>    7.483</td> <td> 0.000</td> <td>    1.005</td> <td>    1.742</td>\n",
       "</tr>\n",
       "</table>\n",
       "<table class=\"simpletable\">\n",
       "<tr>\n",
       "  <th>Omnibus:</th>       <td> 1.553</td> <th>  Durbin-Watson:     </th> <td>   2.284</td>\n",
       "</tr>\n",
       "<tr>\n",
       "  <th>Prob(Omnibus):</th> <td> 0.460</td> <th>  Jarque-Bera (JB):  </th> <td>   1.292</td>\n",
       "</tr>\n",
       "<tr>\n",
       "  <th>Skew:</th>          <td> 0.207</td> <th>  Prob(JB):          </th> <td>   0.524</td>\n",
       "</tr>\n",
       "<tr>\n",
       "  <th>Kurtosis:</th>      <td> 2.339</td> <th>  Cond. No.          </th> <td>    45.1</td>\n",
       "</tr>\n",
       "</table><br/><br/>Notes:<br/>[1] Standard Errors assume that the covariance matrix of the errors is correctly specified."
      ],
      "text/plain": [
       "<class 'statsmodels.iolib.summary.Summary'>\n",
       "\"\"\"\n",
       "                            OLS Regression Results                            \n",
       "==============================================================================\n",
       "Dep. Variable:             Brth15to17   R-squared:                       0.533\n",
       "Model:                            OLS   Adj. R-squared:                  0.524\n",
       "Method:                 Least Squares   F-statistic:                     56.00\n",
       "Date:                Mon, 25 Jul 2022   Prob (F-statistic):           1.19e-09\n",
       "Time:                        17:31:15   Log-Likelihood:                -158.75\n",
       "No. Observations:                  51   AIC:                             321.5\n",
       "Df Residuals:                      49   BIC:                             325.4\n",
       "Df Model:                           1                                         \n",
       "Covariance Type:            nonrobust                                         \n",
       "==============================================================================\n",
       "                 coef    std err          t      P>|t|      [0.025      0.975]\n",
       "------------------------------------------------------------------------------\n",
       "Intercept      4.2673      2.530      1.687      0.098      -0.816       9.351\n",
       "PovPct         1.3733      0.184      7.483      0.000       1.005       1.742\n",
       "==============================================================================\n",
       "Omnibus:                        1.553   Durbin-Watson:                   2.284\n",
       "Prob(Omnibus):                  0.460   Jarque-Bera (JB):                1.292\n",
       "Skew:                           0.207   Prob(JB):                        0.524\n",
       "Kurtosis:                       2.339   Cond. No.                         45.1\n",
       "==============================================================================\n",
       "\n",
       "Notes:\n",
       "[1] Standard Errors assume that the covariance matrix of the errors is correctly specified.\n",
       "\"\"\""
      ]
     },
     "execution_count": 93,
     "metadata": {},
     "output_type": "execute_result"
    }
   ],
   "source": [
    "modelo.summary()"
   ]
  },
  {
   "cell_type": "markdown",
   "id": "ede0b8d1-6409-4ca2-8d8c-82355fe1385e",
   "metadata": {},
   "source": [
    "## Conclusiones Parte 2\n",
    "\n",
    "\n",
    "\n",
    "- No se observan grandes significancias al momento de comparar los coeficientes obtenidos. Por tanto, las mismas conclusiones anteriores pueden ser replicadas en este apartado, solo se debería ajustar con los nuevos valores obtenidos.-\n",
    "\n"
   ]
  }
 ],
 "metadata": {
  "kernelspec": {
   "display_name": "Python 3.9.7 ('base')",
   "language": "python",
   "name": "python3"
  },
  "language_info": {
   "codemirror_mode": {
    "name": "ipython",
    "version": 3
   },
   "file_extension": ".py",
   "mimetype": "text/x-python",
   "name": "python",
   "nbconvert_exporter": "python",
   "pygments_lexer": "ipython3",
   "version": "3.9.7"
  },
  "vscode": {
   "interpreter": {
    "hash": "6e3f089e5f8edef53c9e6802fc7761f3d0aca790d80dcbea6d1d72e29d7dc734"
   }
  }
 },
 "nbformat": 4,
 "nbformat_minor": 5
}
